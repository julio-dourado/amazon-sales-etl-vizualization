{
 "cells": [
  {
   "cell_type": "markdown",
   "id": "db1e8349",
   "metadata": {},
   "source": [
    "## Amazon Products Data Cleaning | Feature Engineering — From Raw to Clean and Processed"
   ]
  },
  {
   "cell_type": "markdown",
   "id": "f552b7c5",
   "metadata": {},
   "source": []
  },
  {
   "cell_type": "markdown",
   "id": "1beec0f7",
   "metadata": {},
   "source": [
    "Authors: \n",
    "    - JULIO DOURADO (@ikramshah512)\n",
    "    - LEONARDO LAGO (@GustavoHenriqueRS)\n",
    "    - GUSTAVO RODRIGUES (@lelamo2002)\n",
    "\n",
    "Data Science Enthusiast | Focused on Web Scraping, Data Cleaning & EDA | Exploring AI & Machine Learning\n",
    "\n",
    "License: MIT\n",
    "\n",
    "Data: https://www.kaggle.com/datasets/ikramshah512/amazon-products-sales-dataset-42k-items-2025/data"
   ]
  }
 ],
 "metadata": {
  "language_info": {
   "name": "python"
  }
 },
 "nbformat": 4,
 "nbformat_minor": 5
}
